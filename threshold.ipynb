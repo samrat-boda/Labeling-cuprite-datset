{
 "cells": [
  {
   "cell_type": "code",
   "execution_count": 2,
   "metadata": {},
   "outputs": [],
   "source": [
    "import scipy.io\n",
    "import numpy as np\n",
    "import matplotlib.pyplot as plt\n",
    "import json\n",
    "\n",
    "# Load the .mat file\n",
    "groundTruth_data = scipy.io.loadmat('groundTruth_Cuprite_nEnd12.mat')\n",
    "Cuprite_data = scipy.io.loadmat('Cuprite.mat')\n",
    "\n"
   ]
  },
  {
   "cell_type": "code",
   "execution_count": 3,
   "metadata": {},
   "outputs": [
    {
     "name": "stdout",
     "output_type": "stream",
     "text": [
      "(512, 614, 224)\n",
      "(12, 224)\n"
     ]
    }
   ],
   "source": [
    "Cuprite=Cuprite_data['X'] \n",
    "print(Cuprite.shape)\n",
    "  \n",
    "reference_spectra = np.transpose(groundTruth_data['M'])\n",
    "print(reference_spectra.shape)\n",
    " "
   ]
  },
  {
   "cell_type": "code",
   "execution_count": 4,
   "metadata": {},
   "outputs": [
    {
     "name": "stdout",
     "output_type": "stream",
     "text": [
      "Maximum value of reference_spectra: 0.9120257608554999\n",
      "Minimum value of reference_spectra: 0.0770244938180001\n",
      "Maximum value of Cuprite: 12000\n",
      "Minimum value of Cuprite: -50\n"
     ]
    }
   ],
   "source": [
    "max_val = np.max(reference_spectra)\n",
    "min_val = np.min(reference_spectra)\n",
    "\n",
    "print(\"Maximum value of reference_spectra:\", max_val)\n",
    "print(\"Minimum value of reference_spectra:\", min_val)\n",
    "\n",
    "max_val = np.max(Cuprite)\n",
    "min_val = np.min(Cuprite)\n",
    "\n",
    "print(\"Maximum value of Cuprite:\", max_val)\n",
    "print(\"Minimum value of Cuprite:\", min_val)"
   ]
  },
  {
   "cell_type": "code",
   "execution_count": 5,
   "metadata": {},
   "outputs": [
    {
     "name": "stdout",
     "output_type": "stream",
     "text": [
      "Minimum value in normalized array: 1e-06\n",
      "Maximum value in normalized array: 0.991770547325103\n"
     ]
    }
   ],
   "source": [
    "Cuprite_shifted = Cuprite + 50 \n",
    "Cuprite_norm = Cuprite_shifted / 12150 \n",
    "Cuprite_norm = Cuprite_norm + 1e-6 \n",
    "print(\"Minimum value in normalized array:\", np.min(Cuprite_norm))\n",
    "print(\"Maximum value in normalized array:\", np.max(Cuprite_norm))"
   ]
  },
  {
   "cell_type": "code",
   "execution_count": 6,
   "metadata": {},
   "outputs": [],
   "source": [
    "def avg_threshold(image, ref_spectrum):\n",
    "    dot_products = np.sum(image * ref_spectrum, axis=2) \n",
    "    norms_image = np.sqrt(np.sum(np.square(image), axis=2))\n",
    "    norm_ref_spectrum = np.linalg.norm(ref_spectrum) \n",
    "    cos_sims = dot_products / (norms_image * norm_ref_spectrum) \n",
    "    avg_cos_sim = np.mean(cos_sims)\n",
    "\n",
    "    return avg_cos_sim\n"
   ]
  },
  {
   "cell_type": "code",
   "execution_count": 7,
   "metadata": {},
   "outputs": [],
   "source": [
    "def count_similar_pixels(image, ref_spectrum, threshold):\n",
    "    # compute dot products between reference spectrum and all pixels in image\n",
    "    dot_products = np.dot(image.reshape(-1, image.shape[-1]), ref_spectrum)\n",
    "    \n",
    "    # reshape dot products to have same shape as image\n",
    "    cos_sims = dot_products.reshape(image.shape[:-1])\n",
    "    \n",
    "    # compute norms of image pixels and reference spectrum\n",
    "    norms_image = np.sqrt(np.sum(np.square(image), axis=2))\n",
    "    norm_ref_spectrum = np.sqrt(np.sum(np.square(ref_spectrum)))\n",
    "    \n",
    "    # compute cosine similarities between reference spectrum and all pixels in image\n",
    "    cos_sims /= (norms_image * norm_ref_spectrum)\n",
    "    \n",
    "    # count number of pixels with cosine similarity greater than threshold\n",
    "    num_similar_pixels = np.sum(cos_sims > threshold)\n",
    "    \n",
    "    return num_similar_pixels"
   ]
  },
  {
   "cell_type": "code",
   "execution_count": 8,
   "metadata": {},
   "outputs": [],
   "source": [
    "data={\n",
    "  \"Alunite\": {\n",
    "    \"Threshold\": 0.930899999,\n",
    "    \"No. of data points\": 707\n",
    "  },\n",
    "  \"Andradite\": {\n",
    "    \"Threshold\": 0.9466,\n",
    "    \"No. of data points\": 1039\n",
    "  },\n",
    "  \"Buddingtonite\": {\n",
    "    \"Threshold\": 0.94101,\n",
    "    \"No. of data points\": 920\n",
    "  },\n",
    "  \"Dumortierite\": {\n",
    "    \"Threshold\": 0.93900,\n",
    "    \"No. of data points\": 989\n",
    "  },\n",
    "  \"Kaolinite1\": {\n",
    "    \"Threshold\": 0.9488,\n",
    "    \"No. of data points\": 327\n",
    "  },\n",
    "  \"Kaolinite2\": {\n",
    "    \"Threshold\": 0.9550989,\n",
    "    \"No. of data points\": 1482\n",
    "  },\n",
    "  \"Muscovite\": {\n",
    "    \"Threshold\": 0.9430000,\n",
    "    \"No. of data points\": 1259\n",
    "  },\n",
    "  \"Montmorillonite\": {\n",
    "    \"Threshold\": 0.9523,\n",
    "    \"No. of data points\": 1677\n",
    "  },\n",
    "  \"Nontronite\": {\n",
    "    \"Threshold\": 0.9615,\n",
    "    \"No. of data points\": 1066\n",
    "  },\n",
    "  \"Pyrope\": {\n",
    "    \"Threshold\": 0.949222,\n",
    "    \"No. of data points\": 474\n",
    "  },\n",
    "  \"Sphene\": {\n",
    "    \"Threshold\": 0.9440,\n",
    "    \"No. of data points\": 343\n",
    "  },\n",
    "  \"Chalcedony\": {\n",
    "    \"Threshold\": 0.94658999,\n",
    "    \"No. of data points\": 1079\n",
    "  }\n",
    "}\n"
   ]
  },
  {
   "cell_type": "code",
   "execution_count": 18,
   "metadata": {},
   "outputs": [],
   "source": [
    "elem=\"Kaolinite1\"\n",
    "ref_spectrum = reference_spectra[4] \n",
    "image=Cuprite_norm"
   ]
  },
  {
   "cell_type": "code",
   "execution_count": 20,
   "metadata": {},
   "outputs": [
    {
     "name": "stdout",
     "output_type": "stream",
     "text": [
      "Number of data points with cosine similarity > 0.9488: 327\n"
     ]
    }
   ],
   "source": [
    "threshold_value =0.9488\n",
    "num_similar_pixels = count_similar_pixels(image, ref_spectrum, threshold_value)\n",
    "print(\"Number of data points with cosine similarity > {}: {}\".format(threshold_value, num_similar_pixels))"
   ]
  },
  {
   "cell_type": "code",
   "execution_count": 11,
   "metadata": {},
   "outputs": [],
   "source": [
    "data[elem]['threshold'] = threshold_value\n",
    "data[elem]['no_of_data_points'] = num_similar_pixels"
   ]
  },
  {
   "cell_type": "code",
   "execution_count": 12,
   "metadata": {},
   "outputs": [
    {
     "name": "stdout",
     "output_type": "stream",
     "text": [
      "Alunite: Threshold = 0.930899999, No. of data points = 707\n",
      "Andradite: Threshold = 0.9466, No. of data points = 1039\n",
      "Buddingtonite: Threshold = 0.94101, No. of data points = 920\n",
      "Dumortierite: Threshold = 0.939, No. of data points = 989\n",
      "Kaolinite1: Threshold = 0.9482, No. of data points = 534\n",
      "Kaolinite2: Threshold = 0.9555989, No. of data points = 1034\n",
      "Muscovite: Threshold = 0.9435, No. of data points = 953\n",
      "Montmorillonite: Threshold = 0.9529, No. of data points = 1062\n",
      "Nontronite: Threshold = 0.9619, No. of data points = 739\n",
      "Pyrope: Threshold = 0.949222, No. of data points = 474\n",
      "Sphene: Threshold = 0.943523, No. of data points = 534\n",
      "Chalcedony: Threshold = 0.95018999, No. of data points = 123\n"
     ]
    }
   ],
   "source": [
    "for element, info in data.items():\n",
    "    print(f\"{element}: Threshold = {info['Threshold']}, No. of data points = {info['No. of data points']}\")\n"
   ]
  },
  {
   "cell_type": "code",
   "execution_count": 13,
   "metadata": {},
   "outputs": [],
   "source": [
    "import pickle\n",
    " \n",
    "with open('data.pkl', 'wb') as f:\n",
    "    pickle.dump(data, f)\n"
   ]
  },
  {
   "cell_type": "code",
   "execution_count": 14,
   "metadata": {},
   "outputs": [
    {
     "name": "stdout",
     "output_type": "stream",
     "text": [
      "{'Alunite': {'Threshold': 0.930899999, 'No. of data points': 707}, 'Andradite': {'Threshold': 0.9466, 'No. of data points': 1039}, 'Buddingtonite': {'Threshold': 0.94101, 'No. of data points': 920}, 'Dumortierite': {'Threshold': 0.939, 'No. of data points': 989}, 'Kaolinite1': {'Threshold': 0.9482, 'No. of data points': 534}, 'Kaolinite2': {'Threshold': 0.9555989, 'No. of data points': 1034}, 'Muscovite': {'Threshold': 0.9435, 'No. of data points': 953}, 'Montmorillonite': {'Threshold': 0.9529, 'No. of data points': 1062}, 'Nontronite': {'Threshold': 0.9619, 'No. of data points': 739}, 'Pyrope': {'Threshold': 0.949222, 'No. of data points': 474}, 'Sphene': {'Threshold': 0.943523, 'No. of data points': 534, 'threshold': 0.943523, 'no_of_data_points': 534}, 'Chalcedony': {'Threshold': 0.95018999, 'No. of data points': 123}}\n"
     ]
    }
   ],
   "source": [
    "import pickle\n",
    "with open('data.pkl', 'rb') as f:\n",
    "    data = pickle.load(f)\n",
    "print(data)"
   ]
  },
  {
   "attachments": {},
   "cell_type": "markdown",
   "metadata": {},
   "source": [
    "# Assuming the dictionary is stored in a variable called 'data'\n",
    "total_data_points = 0\n",
    "for element in data.values():\n",
    "    total_data_points += data['no_of_data_points']\n",
    "\n",
    "print(\"Total number of data points:\", total_data_points)\n"
   ]
  }
 ],
 "metadata": {
  "kernelspec": {
   "display_name": "Python 3",
   "language": "python",
   "name": "python3"
  },
  "language_info": {
   "codemirror_mode": {
    "name": "ipython",
    "version": 3
   },
   "file_extension": ".py",
   "mimetype": "text/x-python",
   "name": "python",
   "nbconvert_exporter": "python",
   "pygments_lexer": "ipython3",
   "version": "3.10.0"
  },
  "orig_nbformat": 4,
  "vscode": {
   "interpreter": {
    "hash": "2693755389fbf56aeea80617926b86d20afaafd4067c750e16b8609c5c17e5cb"
   }
  }
 },
 "nbformat": 4,
 "nbformat_minor": 2
}
