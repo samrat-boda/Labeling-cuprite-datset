{
 "cells": [
  {
   "cell_type": "code",
   "execution_count": 10,
   "metadata": {},
   "outputs": [],
   "source": [
    "import numpy as np\n",
    "import matplotlib.pyplot as plt  \n",
    "import os \n",
    "import scipy.io as sio\n",
    "import scipy"
   ]
  },
  {
   "cell_type": "code",
   "execution_count": 11,
   "metadata": {},
   "outputs": [],
   "source": [
    "def cosine_similarity(a, b):\n",
    "    dot_product = np.dot(a, b)\n",
    "    norm_a = np.linalg.norm(a)\n",
    "    norm_b = np.linalg.norm(b)\n",
    "    return dot_product / (norm_a * norm_b)"
   ]
  },
  {
   "cell_type": "code",
   "execution_count": 12,
   "metadata": {},
   "outputs": [
    {
     "name": "stdout",
     "output_type": "stream",
     "text": [
      "(512, 614, 224)\n",
      "(12, 224)\n"
     ]
    }
   ],
   "source": [
    "groundTruth_data = scipy.io.loadmat('groundTruth_Cuprite_nEnd12.mat')\n",
    "Cuprite_data = scipy.io.loadmat('Cuprite.mat')\n",
    "Cuprite=Cuprite_data['X'] \n",
    "reference_spectra = np.transpose(groundTruth_data['M'])\n",
    "print(Cuprite.shape)  \n",
    "print(reference_spectra.shape)\n"
   ]
  },
  {
   "cell_type": "code",
   "execution_count": 13,
   "metadata": {},
   "outputs": [
    {
     "name": "stdout",
     "output_type": "stream",
     "text": [
      "Minimum value: -50\n",
      "Maximum value: 12000\n",
      "Minimum value in normalized array: 1e-06\n",
      "Maximum value in normalized array: 1.000001\n"
     ]
    }
   ],
   "source": [
    "# print the maximum and minimum values\n",
    "maxVal=np.amax(Cuprite)\n",
    "minVal=np.amin(Cuprite)\n",
    "print(\"Minimum value:\", minVal)\n",
    "print(\"Maximum value:\", maxVal)\n",
    "Cuprite_shifted = Cuprite + abs(minVal) \n",
    "Cuprite_norm = Cuprite_shifted / (abs(minVal) + abs(maxVal))\n",
    "Cuprite_norm = Cuprite_norm + 1e-6  \n",
    "maxVal=np.amax(Cuprite_norm)\n",
    "minVal=np.amin(Cuprite_norm) \n",
    "print(\"Minimum value in normalized array:\", np.min(Cuprite_norm))\n",
    "print(\"Maximum value in normalized array:\", np.max(Cuprite_norm))"
   ]
  },
  {
   "cell_type": "code",
   "execution_count": 14,
   "metadata": {},
   "outputs": [
    {
     "name": "stdout",
     "output_type": "stream",
     "text": [
      "Minimum value: 0.0770244938180001\n",
      "Maximum value: 0.9120257608554999\n",
      "Minimum value in normalized array: 0.07787822964939432\n",
      "Maximum value in normalized array: 0.9221237703506057\n"
     ]
    }
   ],
   "source": [
    "RmaxVal=np.amax(reference_spectra)\n",
    "RminVal=np.amin(reference_spectra)\n",
    "print(\"Minimum value:\", RminVal)\n",
    "print(\"Maximum value:\", RmaxVal) \n",
    "reference_spectra_norm = reference_spectra / (abs(RminVal) + abs(RmaxVal))\n",
    "reference_spectra_norm = reference_spectra_norm + 1e-6  \n",
    "maxVal=np.amax(reference_spectra_norm)\n",
    "minVal=np.amin(reference_spectra_norm) \n",
    "print(\"Minimum value in normalized array:\", np.min(reference_spectra_norm))\n",
    "print(\"Maximum value in normalized array:\", np.max(reference_spectra_norm))"
   ]
  },
  {
   "cell_type": "code",
   "execution_count": 15,
   "metadata": {},
   "outputs": [
    {
     "name": "stdout",
     "output_type": "stream",
     "text": [
      "datset shape (314368, 224)\n",
      "labels shape (314368,)\n"
     ]
    }
   ],
   "source": [
    "cuprite_2d=Cuprite_norm.reshape(-1,Cuprite.shape[-1])\n",
    "print(\"datset shape\",cuprite_2d.shape)\n",
    "Label = np.full((314368,), -1)\n",
    "print(\"labels shape\",Label.shape)"
   ]
  },
  {
   "cell_type": "code",
   "execution_count": 16,
   "metadata": {},
   "outputs": [
    {
     "name": "stdout",
     "output_type": "stream",
     "text": [
      "thresholds shape :  (12,)\n"
     ]
    }
   ],
   "source": [
    "data={\n",
    "  \"Alunite\": {\n",
    "    \"Threshold\": 0.930899999,\n",
    "    \"No. of data points\": 707\n",
    "  },\n",
    "  \"Andradite\": {\n",
    "    \"Threshold\": 0.9466,\n",
    "    \"No. of data points\": 1039\n",
    "  },\n",
    "  \"Buddingtonite\": {\n",
    "    \"Threshold\": 0.94101,\n",
    "    \"No. of data points\": 920\n",
    "  },\n",
    "  \"Dumortierite\": {\n",
    "    \"Threshold\": 0.93900,\n",
    "    \"No. of data points\": 989\n",
    "  },\n",
    "  \"Kaolinite1\": {\n",
    "    \"Threshold\": 0.9488,\n",
    "    \"No. of data points\": 327\n",
    "  },\n",
    "  \"Kaolinite2\": {\n",
    "    \"Threshold\": 0.9550989,\n",
    "    \"No. of data points\": 1482\n",
    "  },\n",
    "  \"Muscovite\": {\n",
    "    \"Threshold\": 0.9430000,\n",
    "    \"No. of data points\": 1259\n",
    "  },\n",
    "  \"Montmorillonite\": {\n",
    "    \"Threshold\": 0.9523,\n",
    "    \"No. of data points\": 1677\n",
    "  },\n",
    "  \"Nontronite\": {\n",
    "    \"Threshold\": 0.9615,\n",
    "    \"No. of data points\": 1066\n",
    "  },\n",
    "  \"Pyrope\": {\n",
    "    \"Threshold\": 0.949222,\n",
    "    \"No. of data points\": 474\n",
    "  },\n",
    "  \"Sphene\": {\n",
    "    \"Threshold\": 0.9440,\n",
    "    \"No. of data points\": 343\n",
    "  },\n",
    "  \"Chalcedony\": {\n",
    "    \"Threshold\": 0.94658999,\n",
    "    \"No. of data points\": 1079\n",
    "  }\n",
    "}\n",
    "\n",
    "\n",
    "thresholds = np.zeros(12)  # initialize a NumPy array of size 12 with zeros\n",
    "\n",
    "# fill the array with the threshold values of each element in serial order\n",
    "for i, mineral in enumerate(data):\n",
    "    thresholds[i] = data[mineral]['Threshold']\n",
    "print(\"thresholds shape : \",thresholds.shape)\n"
   ]
  },
  {
   "cell_type": "code",
   "execution_count": 17,
   "metadata": {},
   "outputs": [
    {
     "name": "stdout",
     "output_type": "stream",
     "text": [
      "Total number of data points: 11362\n"
     ]
    }
   ],
   "source": [
    "total_data_points = 0\n",
    "for mineral_data in data.values():\n",
    "    total_data_points += mineral_data['No. of data points']\n",
    "print(\"Total number of data points:\", total_data_points)\n"
   ]
  },
  {
   "cell_type": "code",
   "execution_count": 18,
   "metadata": {},
   "outputs": [],
   "source": [
    "for i in range(cuprite_2d.shape[0]):\n",
    "    for j in range(reference_spectra.shape[0]):\n",
    "        if cosine_similarity(cuprite_2d[i],reference_spectra[j])>=thresholds[j]:\n",
    "            Label[i]=j\n",
    "    "
   ]
  },
  {
   "cell_type": "code",
   "execution_count": 19,
   "metadata": {},
   "outputs": [
    {
     "name": "stdout",
     "output_type": "stream",
     "text": [
      "3504\n"
     ]
    }
   ],
   "source": [
    "labels=np.sum(Label>=0)\n",
    "print(labels)  "
   ]
  },
  {
   "cell_type": "code",
   "execution_count": 20,
   "metadata": {},
   "outputs": [],
   "source": [
    "import numpy as np\n",
    "\n",
    "size = 314368\n",
    "\n",
    "Alunite_array = np.zeros(size)\n",
    "Andradite_array = np.zeros(size)\n",
    "Buddingtonite_array = np.zeros(size)\n",
    "Dumortierite_array = np.zeros(size)\n",
    "Kaolinite1_array = np.zeros(size)\n",
    "Kaolinite2_array = np.zeros(size)\n",
    "Muscovite_array = np.zeros(size)\n",
    "Montmorillonite_array = np.zeros(size)\n",
    "Nontronite_array = np.zeros(size)\n",
    "Pyrope_array = np.zeros(size)\n",
    "Sphene_array = np.zeros(size)\n",
    "Chalcedony_array = np.zeros(size)\n",
    "\n",
    "totalpoint=0"
   ]
  },
  {
   "cell_type": "code",
   "execution_count": 21,
   "metadata": {},
   "outputs": [
    {
     "name": "stdout",
     "output_type": "stream",
     "text": [
      "314368\n"
     ]
    }
   ],
   "source": [
    "print(len(cuprite_2d))"
   ]
  },
  {
   "cell_type": "code",
   "execution_count": 22,
   "metadata": {},
   "outputs": [
    {
     "name": "stdout",
     "output_type": "stream",
     "text": [
      "11362.0\n",
      "12\n"
     ]
    }
   ],
   "source": [
    "i=0\n",
    "for j,elem in enumerate(cuprite_2d):\n",
    "    if(cosine_similarity(elem,reference_spectra[i])>=thresholds[i] ):\n",
    "        Alunite_array[j]=1\n",
    "totalpoint+=np.sum(Alunite_array)\n",
    "i=i+1\n",
    "\n",
    "for j,elem in enumerate(cuprite_2d):\n",
    "    if(cosine_similarity(elem,reference_spectra[i])>=thresholds[i] ):   \n",
    "        Andradite_array[j]=1\n",
    "totalpoint+=np.sum(Andradite_array) \n",
    "i=i+1 \n",
    "\n",
    "for j,elem in enumerate(cuprite_2d):\n",
    "    if(cosine_similarity(elem,reference_spectra[i])>=thresholds[i] ):  \n",
    "        Buddingtonite_array[j]=1\n",
    "totalpoint+=np.sum(Buddingtonite_array)  \n",
    "i=i+1\n",
    "\n",
    "for j,elem in enumerate(cuprite_2d):\n",
    "    if(cosine_similarity(elem,reference_spectra[i])>=thresholds[i] ):   \n",
    "        Dumortierite_array[j]=1\n",
    "totalpoint+=np.sum(Dumortierite_array)\n",
    "i=i+1\n",
    "\n",
    "for j,elem in enumerate(cuprite_2d):\n",
    "    if(cosine_similarity(elem,reference_spectra[i])>=thresholds[i] ):  \n",
    "        Kaolinite1_array[j]=1\n",
    "totalpoint+=np.sum(Kaolinite1_array)\n",
    "i=i+1\n",
    "\n",
    "for j,elem in enumerate(cuprite_2d):\n",
    "    if(cosine_similarity(elem,reference_spectra[i])>=thresholds[i] ):  \n",
    "        Kaolinite2_array[j]=1\n",
    "totalpoint+=np.sum(Kaolinite2_array)   \n",
    "i=i+1\n",
    "\n",
    "for j,elem in enumerate(cuprite_2d):\n",
    "    if(cosine_similarity(elem,reference_spectra[i])>=thresholds[i] ):   \n",
    "        Muscovite_array[j]=1\n",
    "totalpoint+=np.sum(Muscovite_array)  \n",
    "i=i+1\n",
    "\n",
    "for j,elem in enumerate(cuprite_2d):\n",
    "    if(cosine_similarity(elem,reference_spectra[i])>=thresholds[i] ):   \n",
    "        Montmorillonite_array[j]=1\n",
    "totalpoint+=np.sum(Montmorillonite_array)  \n",
    "i=i+1\n",
    "\n",
    "for j,elem in enumerate(cuprite_2d):\n",
    "    if(cosine_similarity(elem,reference_spectra[i])>=thresholds[i] ):  \n",
    "        Nontronite_array[j]=1\n",
    "totalpoint+=np.sum(Nontronite_array)   \n",
    "i=i+1\n",
    "\n",
    "for j,elem in enumerate(cuprite_2d):\n",
    "    if(cosine_similarity(elem,reference_spectra[i])>=thresholds[i] ):  \n",
    "        Pyrope_array[j]=1\n",
    "totalpoint+=np.sum(Pyrope_array)\n",
    "i=i+1\n",
    "\n",
    "for j,elem in enumerate(cuprite_2d):\n",
    "    if(cosine_similarity(elem,reference_spectra[i])>=thresholds[i] ):   \n",
    "        Sphene_array[j]=1\n",
    "totalpoint+=np.sum(Sphene_array)\n",
    "i=i+1\n",
    "\n",
    "for j,elem in enumerate(cuprite_2d):\n",
    "    if(cosine_similarity(elem,reference_spectra[i])>=thresholds[i] ):   \n",
    "        Chalcedony_array[j]=1\n",
    "totalpoint+=np.sum(Chalcedony_array)\n",
    "i=i+1\n",
    "\n",
    "print(totalpoint)\n",
    "print(i)"
   ]
  },
  {
   "cell_type": "code",
   "execution_count": 23,
   "metadata": {},
   "outputs": [
    {
     "name": "stdout",
     "output_type": "stream",
     "text": [
      "2453\n"
     ]
    }
   ],
   "source": [
    " \n",
    "arrays_list = Alunite_array + Andradite_array + Buddingtonite_array + Dumortierite_array + Kaolinite1_array +Kaolinite2_array + Muscovite_array + Montmorillonite_array + Nontronite_array + Pyrope_array + Sphene_array + Chalcedony_array \n",
    "mixed_pixels = np.sum(arrays_list >1)\n",
    "print(mixed_pixels) "
   ]
  },
  {
   "cell_type": "code",
   "execution_count": 24,
   "metadata": {},
   "outputs": [],
   "source": [
    "for i,elem in enumerate(arrays_list):\n",
    "    if(elem>1):\n",
    "        Label[i]=-1"
   ]
  },
  {
   "cell_type": "code",
   "execution_count": 25,
   "metadata": {},
   "outputs": [
    {
     "name": "stdout",
     "output_type": "stream",
     "text": [
      "1051\n"
     ]
    }
   ],
   "source": [
    "labels=np.sum(Label>=0)\n",
    "print(labels)  "
   ]
  },
  {
   "cell_type": "code",
   "execution_count": 26,
   "metadata": {},
   "outputs": [
    {
     "name": "stdout",
     "output_type": "stream",
     "text": [
      "No.of datapoints belonging to class - 0: 59\n",
      "No.of datapoints belonging to class - 1: 94\n",
      "No.of datapoints belonging to class - 2: 31\n",
      "No.of datapoints belonging to class - 3: 52\n",
      "No.of datapoints belonging to class - 4: 116\n",
      "No.of datapoints belonging to class - 5: 51\n",
      "No.of datapoints belonging to class - 6: 51\n",
      "No.of datapoints belonging to class - 7: 90\n",
      "No.of datapoints belonging to class - 8: 187\n",
      "No.of datapoints belonging to class - 9: 157\n",
      "No.of datapoints belonging to class - 10: 135\n",
      "No.of datapoints belonging to class - 11: 28\n",
      "total no of labeled datapoints : 1051\n"
     ]
    }
   ],
   "source": [
    "values = range(0, 12)\n",
    "\n",
    "# count the number of elements equal to each value\n",
    "counts = [np.count_nonzero(Label == v) for v in values]\n",
    "\n",
    "# print the counts\n",
    "xem=0\n",
    "for v, c in zip(values, counts):\n",
    "    print(\"No.of datapoints belonging to class - {}: {}\".format(v, c))\n",
    "    xem=xem+c\n",
    "print(\"total no of labeled datapoints :\",xem)"
   ]
  },
  {
   "cell_type": "code",
   "execution_count": 27,
   "metadata": {},
   "outputs": [
    {
     "data": {
      "image/png": "[encoded data removed]",
      "text/plain": [
       "<Figure size 640x480 with 2 Axes>"
      ]
     },
     "metadata": {},
     "output_type": "display_data"
    }
   ],
   "source": [
    "# Reshape HSI to 3D array\n",
    "cuprite_3d = np.reshape(cuprite_2d, (512, 614, 224))\n",
    "\n",
    "# Reshape label array to 2D array\n",
    "label_2d = np.reshape(Label, (512, 614))\n",
    "\n",
    "# Define color map for elements\n",
    "cmap = plt.cm.get_cmap('tab20', 12)\n",
    "\n",
    "# Define color for unlabeled pixels\n",
    "cmap.set_under('gray')\n",
    "\n",
    "# Plot the image with labels\n",
    "fig, ax = plt.subplots()\n",
    "im = ax.imshow(label_2d, cmap=cmap, vmin=0.5, vmax=12.5, interpolation='nearest')\n",
    "cbar = fig.colorbar(im, ax=ax, ticks=range(1, 13))\n",
    "cbar.ax.set_yticklabels([\"#1 Alunite\", \"#2 Andradite\", \"#3 Buddingtonite\", \"#4 Dumortierite\", \"#5 Kaolinite1\", \n",
    "                         \"#6 Kaolinite2\", \"#7 Muscovite\", \"#8 Montmorillonite\", \"#9 Nontronite\", \"#10 Pyrope\",\n",
    "                         \"#11 Sphene\", \"#12 Chalcedony\"])\n",
    "cbar.ax.tick_params(labelsize=8)\n",
    "cbar.ax.set_ylabel('Mineral Labels', fontsize=10)\n",
    "plt.show()\n"
   ]
  },
  {
   "cell_type": "code",
   "execution_count": 29,
   "metadata": {},
   "outputs": [
    {
     "data": {
      "image/png": "[encoded data removed]",
      "text/plain": [
       "<Figure size 640x480 with 2 Axes>"
      ]
     },
     "metadata": {},
     "output_type": "display_data"
    }
   ],
   "source": [
    "# Reshape HSI to 3D array\n",
    "from matplotlib.colors import ListedColormap\n",
    "\n",
    "\n",
    "cuprite_3d = np.reshape(cuprite_2d, (512, 614, 224))\n",
    "\n",
    "# Reshape label array to 2D array\n",
    "label_2d = np.reshape(Label, (512, 614))\n",
    "\n",
    "# Define color map for elements\n",
    "colors = ['#8B0000', '#FFA500', '#FFFF00', '#00CED1', '#228B22', '#008000', '#808080', \n",
    "          '#FFC0CB', '#800080', '#FF69B4', '#0000FF', '#a52a2a']\n",
    "cmap = ListedColormap(colors)\n",
    "\n",
    "# Define color for unlabeled pixels\n",
    "cmap.set_under('white')\n",
    "\n",
    "# Plot the image with labels\n",
    "fig, ax = plt.subplots()\n",
    "im = ax.imshow(label_2d, cmap=cmap, vmin=0.5, vmax=12.5, interpolation='nearest')\n",
    "cbar = fig.colorbar(im, ax=ax, ticks=range(1, 13))\n",
    "cbar.ax.set_yticklabels([\"#1 Alunite\", \"#2 Andradite\", \"#3 Buddingtonite\", \"#4 Dumortierite\", \"#5 Kaolinite1\", \n",
    "                         \"#6 Kaolinite2\", \"#7 Muscovite\", \"#8 Montmorillonite\", \"#9 Nontronite\", \"#10 Pyrope\",\n",
    "                         \"#11 Sphene\", \"#12 Chalcedony\"])\n",
    "cbar.ax.tick_params(labelsize=8)\n",
    "cbar.ax.set_ylabel('Mineral Labels', fontsize=10)\n",
    "plt.show()\n"
   ]
  },
  {
   "cell_type": "code",
   "execution_count": null,
   "metadata": {},
   "outputs": [],
   "source": [
    "valid_indices = np.where((Label >= 0) & (Label <= 11))\n",
    " \n",
    "data_points = cuprite_2d[valid_indices]\n",
    "labels = Label[valid_indices]\n",
    "\n",
    "# Print the shapes of the resulting arrays\n",
    "print(data_points.shape)  # (number of data points, 224)\n",
    "print(labels.shape) "
   ]
  },
  {
   "cell_type": "code",
   "execution_count": null,
   "metadata": {},
   "outputs": [],
   "source": [
    "# directory = \"Labeled_Data\"\n",
    "# if not os.path.exists(directory):\n",
    "#     os.makedirs(directory)\n",
    "\n",
    "# # save data array as a MATLAB file in the new directory\n",
    "# sio.savemat(os.path.join(directory, \"data.mat\"), {\"data\": data})\n",
    "\n",
    "# # save labels array as a MATLAB file in the new directory\n",
    "# sio.savemat(os.path.join(directory, \"labels.mat\"), {\"labels\": labels})"
   ]
  }
 ],
 "metadata": {
  "kernelspec": {
   "display_name": "Python 3",
   "language": "python",
   "name": "python3"
  },
  "language_info": {
   "codemirror_mode": {
    "name": "ipython",
    "version": 3
   },
   "file_extension": ".py",
   "mimetype": "text/x-python",
   "name": "python",
   "nbconvert_exporter": "python",
   "pygments_lexer": "ipython3",
   "version": "3.10.0"
  },
  "orig_nbformat": 4,
  "vscode": {
   "interpreter": {
    "hash": "2693755389fbf56aeea80617926b86d20afaafd4067c750e16b8609c5c17e5cb"
   }
  }
 },
 "nbformat": 4,
 "nbformat_minor": 2
}
